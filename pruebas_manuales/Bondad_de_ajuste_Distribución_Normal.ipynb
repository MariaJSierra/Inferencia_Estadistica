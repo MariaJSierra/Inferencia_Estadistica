{
  "nbformat": 4,
  "nbformat_minor": 0,
  "metadata": {
    "colab": {
      "provenance": []
    },
    "kernelspec": {
      "name": "python3",
      "display_name": "Python 3"
    },
    "language_info": {
      "name": "python"
    }
  },
  "cells": [
    {
      "cell_type": "code",
      "execution_count": null,
      "metadata": {
        "id": "XO7locMxnNg0"
      },
      "outputs": [],
      "source": [
        "import statistics\n",
        "from scipy.stats import norm, chi2\n",
        "import numpy as np"
      ]
    },
    {
      "cell_type": "code",
      "source": [
        "def bondad_ajuste_normal(muestra, intervalos, significancia):\n",
        "  n = len(muestra)\n",
        "  media = statistics.mean(muestra)\n",
        "  sd = statistics.stdev(muestra)\n",
        "\n",
        "  while True:\n",
        "    if n//intervalos < 5: intervalos -=1\n",
        "    else: break\n",
        "\n",
        "  probabilidades = (100/intervalos)/100\n",
        "\n",
        "  limites_intervalos = [0] + [norm.ppf(probabilidades*i, media, sd) for i in range(1, intervalos)] + [1]\n",
        "\n",
        "  muestra_np = np.array(muestra)\n",
        "  observados = []\n",
        "  for i in range(len(limites_intervalos)-1):\n",
        "    o = len(muestra_np[(muestra_np >= limites_intervalos[i]) & (muestra_np < limites_intervalos[i+1])])\n",
        "    observados.append(o)\n",
        "\n",
        "  esperados = [n*probabilidades]*(len(limites_intervalos)-1)\n",
        "\n",
        "  chi_cuadrado = sum([((observados[i]-esperados[i])**2)/esperados[i] for i in range(len(limites_intervalos)-1)])\n",
        "\n",
        "  gL = intervalos - 2 - 1\n",
        "\n",
        "  p_valor = 1 - chi2.cdf(chi_cuadrado, df=gL)\n",
        "\n",
        "  print(f'Total de intérvalos = {intervalos}\\nProbabilidad en cada intérvalo = {probabilidades}')\n",
        "  print(f'Estadístico de prueba = {chi_cuadrado}\\nP-valor = {p_valor}\\nSignificancia = {significancia}')\n",
        "\n",
        "  if p_valor < significancia:\n",
        "    print('Hay suficiente evidencia estadística para decir que la muestra no sigue una distribución normal')\n",
        "  else:\n",
        "    print('Hay suficiente evidencia estadística para decir que la muestra sigue una distribución normal')"
      ],
      "metadata": {
        "id": "ejtkhYtFL74a"
      },
      "execution_count": null,
      "outputs": []
    },
    {
      "cell_type": "code",
      "source": [],
      "metadata": {
        "id": "N6oMmjVWg0RV"
      },
      "execution_count": null,
      "outputs": []
    }
  ]
}
